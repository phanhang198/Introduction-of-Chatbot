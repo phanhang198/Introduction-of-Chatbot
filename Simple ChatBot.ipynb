{
 "cells": [
  {
   "cell_type": "markdown",
   "metadata": {},
   "source": [
    "###           Le but de notebook est Essayer donner la bonne réponse à l'utilisateur à partir de database CSV.\n",
    " Première étape: Faire le traitement sur UNE PHRASE (comme ca on peut l'appliquer sur toute la base, ainsi que nouvelle question de l'utilisateur)\n",
    " \n",
    " \n",
    " Deuxième étape: Faire la vectorizer\n",
    " \n",
    " \n",
    " Troisième étape: Cosinus similarité."
   ]
  },
  {
   "cell_type": "code",
   "execution_count": 35,
   "metadata": {},
   "outputs": [],
   "source": [
    "import pandas as pd\n",
    "import regex as re\n",
    "import spacy\n",
    "import numpy as np\n",
    "from sklearn.feature_extraction.text import TfidfVectorizer\n",
    "from sklearn.metrics.pairwise import cosine_similarity\n",
    "nlp = spacy.load('fr_core_news_sm')"
   ]
  },
  {
   "cell_type": "code",
   "execution_count": 2,
   "metadata": {},
   "outputs": [],
   "source": [
    "dt = pd.read_csv(\"Questions_Rep.csv\",sep = '\\t',error_bad_lines=False)"
   ]
  },
  {
   "cell_type": "code",
   "execution_count": 3,
   "metadata": {},
   "outputs": [
    {
     "data": {
      "text/html": [
       "<div>\n",
       "<style scoped>\n",
       "    .dataframe tbody tr th:only-of-type {\n",
       "        vertical-align: middle;\n",
       "    }\n",
       "\n",
       "    .dataframe tbody tr th {\n",
       "        vertical-align: top;\n",
       "    }\n",
       "\n",
       "    .dataframe thead th {\n",
       "        text-align: right;\n",
       "    }\n",
       "</style>\n",
       "<table border=\"1\" class=\"dataframe\">\n",
       "  <thead>\n",
       "    <tr style=\"text-align: right;\">\n",
       "      <th></th>\n",
       "      <th>Questions</th>\n",
       "      <th>Réponses</th>\n",
       "    </tr>\n",
       "  </thead>\n",
       "  <tbody>\n",
       "    <tr>\n",
       "      <th>0</th>\n",
       "      <td>Que récolte le patch?</td>\n",
       "      <td>Le patch récolte plusieurs paramètres physiol...</td>\n",
       "    </tr>\n",
       "    <tr>\n",
       "      <th>1</th>\n",
       "      <td>Combien coûte le patch?</td>\n",
       "      <td>Il faut compter environ une cinquantaine d eu...</td>\n",
       "    </tr>\n",
       "    <tr>\n",
       "      <th>2</th>\n",
       "      <td>Où vont mes données?</td>\n",
       "      <td>Ils vont sur un serveur sécurisé pour permett...</td>\n",
       "    </tr>\n",
       "    <tr>\n",
       "      <th>3</th>\n",
       "      <td>Qui récolte mes données?</td>\n",
       "      <td>Les données sont récoltées sur un serveur séc...</td>\n",
       "    </tr>\n",
       "    <tr>\n",
       "      <th>4</th>\n",
       "      <td>Que fais-ce patch?</td>\n",
       "      <td>Il récolte des données physiologiques pour su...</td>\n",
       "    </tr>\n",
       "    <tr>\n",
       "      <th>5</th>\n",
       "      <td>Qui dirige Devinnova ?</td>\n",
       "      <td>Le directeur est Fabrice Vaussenat.</td>\n",
       "    </tr>\n",
       "    <tr>\n",
       "      <th>6</th>\n",
       "      <td>Qui est le directeur de Devinnova ?</td>\n",
       "      <td>Le directeur est Fabrice Vaussenat.</td>\n",
       "    </tr>\n",
       "    <tr>\n",
       "      <th>7</th>\n",
       "      <td>Qui puis-je appeler pour plus de renseignements ?</td>\n",
       "      <td>Voici le numéro du service communication : 061...</td>\n",
       "    </tr>\n",
       "    <tr>\n",
       "      <th>8</th>\n",
       "      <td>Devinnova, c est quoi ?</td>\n",
       "      <td>Elle est une entreprise qui souhaite mettre l...</td>\n",
       "    </tr>\n",
       "    <tr>\n",
       "      <th>9</th>\n",
       "      <td>Pourquoi récolter mes données ?</td>\n",
       "      <td>Pour pouvoir traiter l activité de votre coeu...</td>\n",
       "    </tr>\n",
       "    <tr>\n",
       "      <th>10</th>\n",
       "      <td>C est quoi un ECG ?</td>\n",
       "      <td>L électrocardiogramme est le tracé de l activ...</td>\n",
       "    </tr>\n",
       "    <tr>\n",
       "      <th>11</th>\n",
       "      <td>C est quoi un électrocardiogramme ?</td>\n",
       "      <td>L électrocardiogramme est le tracé de l activ...</td>\n",
       "    </tr>\n",
       "    <tr>\n",
       "      <th>12</th>\n",
       "      <td>Qu est ce que \" myAngel VitalSigns \" ?</td>\n",
       "      <td>Il est un patch cutané qui assure la préventio...</td>\n",
       "    </tr>\n",
       "    <tr>\n",
       "      <th>13</th>\n",
       "      <td>Comment dois-je le mettre ?</td>\n",
       "      <td>Il doit être placé sur le torse plus préciséme...</td>\n",
       "    </tr>\n",
       "    <tr>\n",
       "      <th>14</th>\n",
       "      <td>Comment utiliser \" myAngel VitalSigns \" ?</td>\n",
       "      <td>Il doit être placé sur le torse plus préciséme...</td>\n",
       "    </tr>\n",
       "  </tbody>\n",
       "</table>\n",
       "</div>"
      ],
      "text/plain": [
       "                                            Questions  \\\n",
       "0                               Que récolte le patch?   \n",
       "1                            Combien coûte le patch?    \n",
       "2                                Où vont mes données?   \n",
       "3                            Qui récolte mes données?   \n",
       "4                                 Que fais-ce patch?    \n",
       "5                              Qui dirige Devinnova ?   \n",
       "6                Qui est le directeur de Devinnova ?    \n",
       "7   Qui puis-je appeler pour plus de renseignements ?   \n",
       "8                            Devinnova, c est quoi ?    \n",
       "9                     Pourquoi récolter mes données ?   \n",
       "10                               C est quoi un ECG ?    \n",
       "11               C est quoi un électrocardiogramme ?    \n",
       "12            Qu est ce que \" myAngel VitalSigns \" ?    \n",
       "13                        Comment dois-je le mettre ?   \n",
       "14         Comment utiliser \" myAngel VitalSigns \" ?    \n",
       "\n",
       "                                             Réponses  \n",
       "0    Le patch récolte plusieurs paramètres physiol...  \n",
       "1    Il faut compter environ une cinquantaine d eu...  \n",
       "2    Ils vont sur un serveur sécurisé pour permett...  \n",
       "3    Les données sont récoltées sur un serveur séc...  \n",
       "4    Il récolte des données physiologiques pour su...  \n",
       "5                 Le directeur est Fabrice Vaussenat.  \n",
       "6                 Le directeur est Fabrice Vaussenat.  \n",
       "7   Voici le numéro du service communication : 061...  \n",
       "8    Elle est une entreprise qui souhaite mettre l...  \n",
       "9    Pour pouvoir traiter l activité de votre coeu...  \n",
       "10   L électrocardiogramme est le tracé de l activ...  \n",
       "11   L électrocardiogramme est le tracé de l activ...  \n",
       "12  Il est un patch cutané qui assure la préventio...  \n",
       "13  Il doit être placé sur le torse plus préciséme...  \n",
       "14  Il doit être placé sur le torse plus préciséme...  "
      ]
     },
     "execution_count": 3,
     "metadata": {},
     "output_type": "execute_result"
    }
   ],
   "source": [
    "dt"
   ]
  },
  {
   "cell_type": "markdown",
   "metadata": {},
   "source": [
    "### 2) Mettez le sous la forme de liste de phrases (pour le TFIDF)"
   ]
  },
  {
   "cell_type": "code",
   "execution_count": 4,
   "metadata": {},
   "outputs": [],
   "source": [
    "def Put_to_List(data):\n",
    "    l = []\n",
    "    for el in data:\n",
    "        l.append(el)\n",
    "    return l\n",
    "Questions = Put_to_List(dt['Questions'])\n",
    "Réponses = Put_to_List(dt['Réponses'])"
   ]
  },
  {
   "cell_type": "markdown",
   "metadata": {},
   "source": [
    "### Fonction pour  nettoyer le corpus\n"
   ]
  },
  {
   "cell_type": "code",
   "execution_count": 5,
   "metadata": {},
   "outputs": [],
   "source": [
    "def Transform(phrase):\n",
    "    phraseNLP = nlp(phrase)\n",
    "    newPhrase = []\n",
    "    for mot in phraseNLP:\n",
    "        if not mot.is_punct and not mot.is_stop and not mot.is_space and len(mot)>1:\n",
    "            newPhrase.append(mot.text)\n",
    "    return \" \".join(newPhrase)"
   ]
  },
  {
   "cell_type": "markdown",
   "metadata": {},
   "source": [
    "### Appliquer le traitement sur toute Questions et Réponses en utilisant map"
   ]
  },
  {
   "cell_type": "code",
   "execution_count": 6,
   "metadata": {},
   "outputs": [],
   "source": [
    "QuestTransf = map (Transform, Questions)\n",
    "ReponTransf = map (Transform, Réponses)"
   ]
  },
  {
   "cell_type": "code",
   "execution_count": 7,
   "metadata": {},
   "outputs": [],
   "source": [
    "dtTfidf = list(ReponTransf)"
   ]
  },
  {
   "cell_type": "markdown",
   "metadata": {},
   "source": [
    "### Appliquer Vectorizer sur toute Questions/ Réponses ou les deux. Cad à la base de toute la liste, TFIDF va donner le poid de chaque mot dans l'ensemble de la liste. Ici je travaille sur la Réponse"
   ]
  },
  {
   "cell_type": "code",
   "execution_count": 32,
   "metadata": {},
   "outputs": [],
   "source": [
    "vectorizer = TfidfVectorizer()\n",
    "ReponsTfidf = vectorizer.fit_transform(dtTfidf)"
   ]
  },
  {
   "cell_type": "code",
   "execution_count": 31,
   "metadata": {},
   "outputs": [
    {
     "data": {
      "text/plain": [
       "array([[0.        , 0.        , 0.        , ..., 0.26030005, 0.        ,\n",
       "        0.        ],\n",
       "       [0.        , 0.        , 0.        , ..., 0.        , 0.        ,\n",
       "        0.        ],\n",
       "       [0.        , 0.        , 0.        , ..., 0.        , 0.2881334 ,\n",
       "        0.        ],\n",
       "       ...,\n",
       "       [0.        , 0.        , 0.        , ..., 0.        , 0.        ,\n",
       "        0.        ],\n",
       "       [0.        , 0.        , 0.        , ..., 0.        , 0.        ,\n",
       "        0.        ],\n",
       "       [0.        , 0.        , 0.        , ..., 0.        , 0.        ,\n",
       "        0.        ]])"
      ]
     },
     "execution_count": 31,
     "metadata": {},
     "output_type": "execute_result"
    }
   ],
   "source": [
    "ReponsTfidf.toarray()"
   ]
  },
  {
   "cell_type": "markdown",
   "metadata": {},
   "source": [
    "### Cosinus similarité de toute la liste"
   ]
  },
  {
   "cell_type": "code",
   "execution_count": 34,
   "metadata": {},
   "outputs": [
    {
     "data": {
      "text/plain": [
       "array([[1.        , 0.        , 0.        , 0.        , 0.17721231,\n",
       "        0.        , 0.        , 0.        , 0.        , 0.        ,\n",
       "        0.05278056, 0.05278056, 0.09135997, 0.        , 0.        ,\n",
       "        0.        ],\n",
       "       [0.        , 1.        , 0.        , 0.        , 0.        ,\n",
       "        0.        , 0.        , 0.        , 0.        , 0.        ,\n",
       "        0.        , 0.        , 0.        , 0.        , 0.        ,\n",
       "        0.        ],\n",
       "       [0.        , 0.        , 1.        , 0.78749184, 0.15670828,\n",
       "        0.        , 0.        , 0.        , 0.        , 0.        ,\n",
       "        0.        , 0.        , 0.        , 0.        , 0.        ,\n",
       "        0.        ],\n",
       "       [0.        , 0.        , 0.78749184, 1.        , 0.18156139,\n",
       "        0.        , 0.        , 0.        , 0.        , 0.        ,\n",
       "        0.        , 0.        , 0.        , 0.        , 0.        ,\n",
       "        0.        ],\n",
       "       [0.17721231, 0.        , 0.15670828, 0.18156139, 1.        ,\n",
       "        0.        , 0.        , 0.        , 0.        , 0.09415025,\n",
       "        0.        , 0.        , 0.        , 0.        , 0.        ,\n",
       "        0.        ],\n",
       "       [0.        , 0.        , 0.        , 0.        , 0.        ,\n",
       "        1.        , 1.        , 0.        , 0.        , 0.        ,\n",
       "        0.        , 0.        , 0.        , 0.        , 0.        ,\n",
       "        0.48226191],\n",
       "       [0.        , 0.        , 0.        , 0.        , 0.        ,\n",
       "        1.        , 1.        , 0.        , 0.        , 0.        ,\n",
       "        0.        , 0.        , 0.        , 0.        , 0.        ,\n",
       "        0.48226191],\n",
       "       [0.        , 0.        , 0.        , 0.        , 0.        ,\n",
       "        0.        , 0.        , 1.        , 0.        , 0.        ,\n",
       "        0.        , 0.        , 0.        , 0.        , 0.        ,\n",
       "        0.        ],\n",
       "       [0.        , 0.        , 0.        , 0.        , 0.        ,\n",
       "        0.        , 0.        , 0.        , 1.        , 0.04274212,\n",
       "        0.06211211, 0.06211211, 0.        , 0.        , 0.        ,\n",
       "        0.        ],\n",
       "       [0.        , 0.        , 0.        , 0.        , 0.09415025,\n",
       "        0.        , 0.        , 0.        , 0.04274212, 1.        ,\n",
       "        0.2048073 , 0.2048073 , 0.        , 0.        , 0.        ,\n",
       "        0.        ],\n",
       "       [0.05278056, 0.        , 0.        , 0.        , 0.        ,\n",
       "        0.        , 0.        , 0.        , 0.06211211, 0.2048073 ,\n",
       "        1.        , 1.        , 0.        , 0.        , 0.        ,\n",
       "        0.        ],\n",
       "       [0.05278056, 0.        , 0.        , 0.        , 0.        ,\n",
       "        0.        , 0.        , 0.        , 0.06211211, 0.2048073 ,\n",
       "        1.        , 1.        , 0.        , 0.        , 0.        ,\n",
       "        0.        ],\n",
       "       [0.09135997, 0.        , 0.        , 0.        , 0.        ,\n",
       "        0.        , 0.        , 0.        , 0.        , 0.        ,\n",
       "        0.        , 0.        , 1.        , 0.        , 0.        ,\n",
       "        0.        ],\n",
       "       [0.        , 0.        , 0.        , 0.        , 0.        ,\n",
       "        0.        , 0.        , 0.        , 0.        , 0.        ,\n",
       "        0.        , 0.        , 0.        , 1.        , 0.7090778 ,\n",
       "        0.        ],\n",
       "       [0.        , 0.        , 0.        , 0.        , 0.        ,\n",
       "        0.        , 0.        , 0.        , 0.        , 0.        ,\n",
       "        0.        , 0.        , 0.        , 0.7090778 , 1.        ,\n",
       "        0.        ],\n",
       "       [0.        , 0.        , 0.        , 0.        , 0.        ,\n",
       "        0.48226191, 0.48226191, 0.        , 0.        , 0.        ,\n",
       "        0.        , 0.        , 0.        , 0.        , 0.        ,\n",
       "        1.        ]])"
      ]
     },
     "execution_count": 34,
     "metadata": {},
     "output_type": "execute_result"
    }
   ],
   "source": [
    "cosine_similarity(ReponsTfidf)"
   ]
  },
  {
   "cell_type": "markdown",
   "metadata": {},
   "source": [
    "### Au cas ou l'utilisateur propose 1 nouvelle question"
   ]
  },
  {
   "cell_type": "code",
   "execution_count": 10,
   "metadata": {},
   "outputs": [],
   "source": [
    "QuestUser = \"Quand directeur Fabrice Vaussena est libre?\""
   ]
  },
  {
   "cell_type": "markdown",
   "metadata": {},
   "source": [
    "1)  On met la nouvelle question dans la liste"
   ]
  },
  {
   "cell_type": "code",
   "execution_count": 11,
   "metadata": {},
   "outputs": [],
   "source": [
    "dtTfidf.append(Transform(QuestUser))"
   ]
  },
  {
   "cell_type": "code",
   "execution_count": 12,
   "metadata": {},
   "outputs": [
    {
     "name": "stdout",
     "output_type": "stream",
     "text": [
      "['patch récolte paramètres physiologiques température corps saturation oxygène électrocardiogramme dérivations', 'faut compter euros', 'serveur sécurisé permettre médecin temps réel informations état santé utilisateur', 'données récoltées serveur sécurisé relié application médecin accès sécurisé permettre temps réel informations état santé utilisateur', 'récolte données physiologiques état cardiaque utilisateur traitement prédire potentiellement AVC', 'directeur Fabrice Vaussenat', 'directeur Fabrice Vaussenat', 'numéro service communication 0612536526', 'entreprise souhaite mettre patient coeur innovation est-à-dire qu puisse contribuer connaissance rétablissement faire commercialise dispositif myAngel VitalSigns', 'pouvoir traiter activité coeur identifier êtes susceptibles victimes AVC', 'électrocardiogramme tracé activité électrique coeur représentation graphique activité coeur Grâce tracé calcul connaître fréquence réspiratoire exemple', 'électrocardiogramme tracé activité électrique coeur représentation graphique activité coeur Grâce tracé calcul connaître fréquence réspiratoire exemple', 'patch cutané assure prévention suivi anomalies cardiorespiratoires neurovasculaires', 'placé torse précisément stérnum', 'placé torse précisément stérnum jours faudra changer', 'directeur Fabrice Vaussena libre']\n"
     ]
    }
   ],
   "source": [
    "print(dtTfidf)"
   ]
  },
  {
   "cell_type": "markdown",
   "metadata": {},
   "source": [
    "2) On applique le vectorizer sur toute la liste"
   ]
  },
  {
   "cell_type": "code",
   "execution_count": 13,
   "metadata": {},
   "outputs": [],
   "source": [
    "vectorizer = TfidfVectorizer()\n",
    "RepUTfidf = vectorizer.fit_transform(dtTfidf)"
   ]
  },
  {
   "cell_type": "code",
   "execution_count": 16,
   "metadata": {},
   "outputs": [],
   "source": [
    "lenMatrix = RepUTfidf.toarray().shape[0]"
   ]
  },
  {
   "cell_type": "markdown",
   "metadata": {},
   "source": [
    "3) On met la nouvelle question de l'utilisateur à part, et on fait consinus similarité entre la liste des réponses et la nouvelle question pour trouver la réponse la plus similaire de la réponse posée."
   ]
  },
  {
   "cell_type": "code",
   "execution_count": 20,
   "metadata": {},
   "outputs": [],
   "source": [
    "matrixCosSim = cosine_similarity(RepUTfidf[0:(lenMatrix-1)],RepUTfidf[-1,:])"
   ]
  },
  {
   "cell_type": "code",
   "execution_count": 21,
   "metadata": {},
   "outputs": [
    {
     "data": {
      "text/plain": [
       "array([[0.        ],\n",
       "       [0.        ],\n",
       "       [0.        ],\n",
       "       [0.        ],\n",
       "       [0.        ],\n",
       "       [0.48226191],\n",
       "       [0.48226191],\n",
       "       [0.        ],\n",
       "       [0.        ],\n",
       "       [0.        ],\n",
       "       [0.        ],\n",
       "       [0.        ],\n",
       "       [0.        ],\n",
       "       [0.        ],\n",
       "       [0.        ]])"
      ]
     },
     "execution_count": 21,
     "metadata": {},
     "output_type": "execute_result"
    }
   ],
   "source": [
    "matrixCosSim"
   ]
  },
  {
   "cell_type": "code",
   "execution_count": 26,
   "metadata": {},
   "outputs": [],
   "source": [
    "result = np.argmax(matrixCosSim)"
   ]
  },
  {
   "cell_type": "code",
   "execution_count": 29,
   "metadata": {},
   "outputs": [
    {
     "data": {
      "text/plain": [
       "'Le directeur est Fabrice Vaussenat.'"
      ]
     },
     "execution_count": 29,
     "metadata": {},
     "output_type": "execute_result"
    }
   ],
   "source": [
    "Réponses[result]"
   ]
  }
 ],
 "metadata": {
  "kernelspec": {
   "display_name": "Python 3",
   "language": "python",
   "name": "python3"
  },
  "language_info": {
   "codemirror_mode": {
    "name": "ipython",
    "version": 3
   },
   "file_extension": ".py",
   "mimetype": "text/x-python",
   "name": "python",
   "nbconvert_exporter": "python",
   "pygments_lexer": "ipython3",
   "version": "3.7.2"
  }
 },
 "nbformat": 4,
 "nbformat_minor": 2
}
